{
  "nbformat": 4,
  "nbformat_minor": 0,
  "metadata": {
    "colab": {
      "name": "Copy of MOMO Stock Price_miqilin.ipynb",
      "provenance": [],
      "collapsed_sections": [
        "iXnIc9YxmuCK",
        "9Kxs78N7muCQ"
      ],
      "include_colab_link": true
    },
    "kernelspec": {
      "display_name": "Python 3",
      "language": "python",
      "name": "python3"
    },
    "language_info": {
      "codemirror_mode": {
        "name": "ipython",
        "version": 3
      },
      "file_extension": ".py",
      "mimetype": "text/x-python",
      "name": "python",
      "nbconvert_exporter": "python",
      "pygments_lexer": "ipython3",
      "version": "3.8.3"
    }
  },
  "cells": [
    {
      "cell_type": "markdown",
      "metadata": {
        "id": "view-in-github",
        "colab_type": "text"
      },
      "source": [
        "<a href=\"https://colab.research.google.com/github/42jaylonw/five-English-word-GAN/blob/master/MOMO_Stock_Price_miqilin.ipynb\" target=\"_parent\"><img src=\"https://colab.research.google.com/assets/colab-badge.svg\" alt=\"Open In Colab\"/></a>"
      ]
    },
    {
      "cell_type": "code",
      "metadata": {
        "colab": {
          "base_uri": "https://localhost:8080/"
        },
        "id": "vflnQ-m4muBo",
        "outputId": "7f050150-bb11-4511-9105-646d87eb3f71"
      },
      "source": [
        "import numpy as np\n",
        "import pandas as pd\n",
        "\n",
        "import matplotlib.pyplot as plt\n",
        "plt.style.use('ggplot')\n",
        "\n",
        "from sklearn.preprocessing import StandardScaler, MinMaxScaler\n",
        "\n",
        "import torch\n",
        "import torch.nn as nn\n",
        "\n",
        "import statsmodels.api as sm\n",
        "from tqdm.notebook import tqdm\n",
        "\n",
        "import pandas_datareader.data as web\n",
        "from datetime import datetime\n",
        "\n",
        "%matplotlib inline"
      ],
      "execution_count": null,
      "outputs": [
        {
          "output_type": "stream",
          "text": [
            "/usr/local/lib/python3.7/dist-packages/statsmodels/tools/_testing.py:19: FutureWarning: pandas.util.testing is deprecated. Use the functions in the public API at pandas.testing instead.\n",
            "  import pandas.util.testing as tm\n"
          ],
          "name": "stderr"
        }
      ]
    },
    {
      "cell_type": "markdown",
      "metadata": {
        "id": "tVArJez6muB0"
      },
      "source": [
        "# 1. Stock Data Download"
      ]
    },
    {
      "cell_type": "code",
      "metadata": {
        "colab": {
          "base_uri": "https://localhost:8080/",
          "height": 657
        },
        "id": "70GjU_fdmuB1",
        "outputId": "95fb45f8-51c5-4b05-8c4c-fa5b526b4219"
      },
      "source": [
        "# get stocks daily data (OHLCV) from Yahoo\n",
        "# the start date (e.g. 2017-01-01) & end date (e.g. 2020-12-31) for the period of interest\n",
        "\n",
        "start = '2017' # accepts strings\n",
        "end = datetime(2020, 12, 31) # or datetime objects\n",
        "\n",
        "stock= web.DataReader('MOMO', 'yahoo', start=start, end=end)\n",
        "stock"
      ],
      "execution_count": null,
      "outputs": [
        {
          "output_type": "execute_result",
          "data": {
            "text/html": [
              "<div>\n",
              "<style scoped>\n",
              "    .dataframe tbody tr th:only-of-type {\n",
              "        vertical-align: middle;\n",
              "    }\n",
              "\n",
              "    .dataframe tbody tr th {\n",
              "        vertical-align: top;\n",
              "    }\n",
              "\n",
              "    .dataframe thead th {\n",
              "        text-align: right;\n",
              "    }\n",
              "</style>\n",
              "<table border=\"1\" class=\"dataframe\">\n",
              "  <thead>\n",
              "    <tr style=\"text-align: right;\">\n",
              "      <th></th>\n",
              "      <th>High</th>\n",
              "      <th>Low</th>\n",
              "      <th>Open</th>\n",
              "      <th>Close</th>\n",
              "      <th>Volume</th>\n",
              "      <th>Adj Close</th>\n",
              "    </tr>\n",
              "    <tr>\n",
              "      <th>Date</th>\n",
              "      <th></th>\n",
              "      <th></th>\n",
              "      <th></th>\n",
              "      <th></th>\n",
              "      <th></th>\n",
              "      <th></th>\n",
              "    </tr>\n",
              "  </thead>\n",
              "  <tbody>\n",
              "    <tr>\n",
              "      <th>2017-01-03</th>\n",
              "      <td>18.850000</td>\n",
              "      <td>18.230000</td>\n",
              "      <td>18.700001</td>\n",
              "      <td>18.299999</td>\n",
              "      <td>848200.0</td>\n",
              "      <td>17.383408</td>\n",
              "    </tr>\n",
              "    <tr>\n",
              "      <th>2017-01-04</th>\n",
              "      <td>19.260000</td>\n",
              "      <td>18.309999</td>\n",
              "      <td>18.309999</td>\n",
              "      <td>19.240000</td>\n",
              "      <td>2418000.0</td>\n",
              "      <td>18.276325</td>\n",
              "    </tr>\n",
              "    <tr>\n",
              "      <th>2017-01-05</th>\n",
              "      <td>20.700001</td>\n",
              "      <td>19.200001</td>\n",
              "      <td>19.290001</td>\n",
              "      <td>20.520000</td>\n",
              "      <td>2792600.0</td>\n",
              "      <td>19.492216</td>\n",
              "    </tr>\n",
              "    <tr>\n",
              "      <th>2017-01-06</th>\n",
              "      <td>20.600000</td>\n",
              "      <td>19.959999</td>\n",
              "      <td>20.600000</td>\n",
              "      <td>20.370001</td>\n",
              "      <td>1351300.0</td>\n",
              "      <td>19.349728</td>\n",
              "    </tr>\n",
              "    <tr>\n",
              "      <th>2017-01-09</th>\n",
              "      <td>21.299999</td>\n",
              "      <td>20.350000</td>\n",
              "      <td>20.389999</td>\n",
              "      <td>21.270000</td>\n",
              "      <td>1620600.0</td>\n",
              "      <td>20.204651</td>\n",
              "    </tr>\n",
              "    <tr>\n",
              "      <th>...</th>\n",
              "      <td>...</td>\n",
              "      <td>...</td>\n",
              "      <td>...</td>\n",
              "      <td>...</td>\n",
              "      <td>...</td>\n",
              "      <td>...</td>\n",
              "    </tr>\n",
              "    <tr>\n",
              "      <th>2020-12-24</th>\n",
              "      <td>13.420000</td>\n",
              "      <td>13.075000</td>\n",
              "      <td>13.400000</td>\n",
              "      <td>13.220000</td>\n",
              "      <td>2252100.0</td>\n",
              "      <td>13.220000</td>\n",
              "    </tr>\n",
              "    <tr>\n",
              "      <th>2020-12-28</th>\n",
              "      <td>13.300000</td>\n",
              "      <td>12.840000</td>\n",
              "      <td>13.210000</td>\n",
              "      <td>13.000000</td>\n",
              "      <td>3187100.0</td>\n",
              "      <td>13.000000</td>\n",
              "    </tr>\n",
              "    <tr>\n",
              "      <th>2020-12-29</th>\n",
              "      <td>13.650000</td>\n",
              "      <td>13.020000</td>\n",
              "      <td>13.020000</td>\n",
              "      <td>13.460000</td>\n",
              "      <td>3081600.0</td>\n",
              "      <td>13.460000</td>\n",
              "    </tr>\n",
              "    <tr>\n",
              "      <th>2020-12-30</th>\n",
              "      <td>14.050000</td>\n",
              "      <td>13.370000</td>\n",
              "      <td>13.390000</td>\n",
              "      <td>13.590000</td>\n",
              "      <td>5467400.0</td>\n",
              "      <td>13.590000</td>\n",
              "    </tr>\n",
              "    <tr>\n",
              "      <th>2020-12-31</th>\n",
              "      <td>14.200000</td>\n",
              "      <td>13.570000</td>\n",
              "      <td>13.700000</td>\n",
              "      <td>13.960000</td>\n",
              "      <td>3998600.0</td>\n",
              "      <td>13.960000</td>\n",
              "    </tr>\n",
              "  </tbody>\n",
              "</table>\n",
              "<p>1007 rows × 6 columns</p>\n",
              "</div>"
            ],
            "text/plain": [
              "                 High        Low       Open      Close     Volume  Adj Close\n",
              "Date                                                                        \n",
              "2017-01-03  18.850000  18.230000  18.700001  18.299999   848200.0  17.383408\n",
              "2017-01-04  19.260000  18.309999  18.309999  19.240000  2418000.0  18.276325\n",
              "2017-01-05  20.700001  19.200001  19.290001  20.520000  2792600.0  19.492216\n",
              "2017-01-06  20.600000  19.959999  20.600000  20.370001  1351300.0  19.349728\n",
              "2017-01-09  21.299999  20.350000  20.389999  21.270000  1620600.0  20.204651\n",
              "...               ...        ...        ...        ...        ...        ...\n",
              "2020-12-24  13.420000  13.075000  13.400000  13.220000  2252100.0  13.220000\n",
              "2020-12-28  13.300000  12.840000  13.210000  13.000000  3187100.0  13.000000\n",
              "2020-12-29  13.650000  13.020000  13.020000  13.460000  3081600.0  13.460000\n",
              "2020-12-30  14.050000  13.370000  13.390000  13.590000  5467400.0  13.590000\n",
              "2020-12-31  14.200000  13.570000  13.700000  13.960000  3998600.0  13.960000\n",
              "\n",
              "[1007 rows x 6 columns]"
            ]
          },
          "metadata": {
            "tags": []
          },
          "execution_count": 3
        }
      ]
    },
    {
      "cell_type": "code",
      "metadata": {
        "id": "2ZSeeTsvmuB2"
      },
      "source": [
        "# Save the stock dataframe to csv for downloading\n",
        "stock.to_csv('MOMO.csv')"
      ],
      "execution_count": null,
      "outputs": []
    },
    {
      "cell_type": "code",
      "metadata": {
        "colab": {
          "base_uri": "https://localhost:8080/",
          "height": 51
        },
        "id": "DvPu8O-N51Sf",
        "outputId": "4d804c86-eade-4c27-9a3b-c3bd169e5cb7"
      },
      "source": [
        "from google.colab import files\r\n",
        "files.download('MOMO.csv')"
      ],
      "execution_count": null,
      "outputs": [
        {
          "output_type": "display_data",
          "data": {
            "application/javascript": [
              "\n",
              "    async function download(id, filename, size) {\n",
              "      if (!google.colab.kernel.accessAllowed) {\n",
              "        return;\n",
              "      }\n",
              "      const div = document.createElement('div');\n",
              "      const label = document.createElement('label');\n",
              "      label.textContent = `Downloading \"${filename}\": `;\n",
              "      div.appendChild(label);\n",
              "      const progress = document.createElement('progress');\n",
              "      progress.max = size;\n",
              "      div.appendChild(progress);\n",
              "      document.body.appendChild(div);\n",
              "\n",
              "      const buffers = [];\n",
              "      let downloaded = 0;\n",
              "\n",
              "      const channel = await google.colab.kernel.comms.open(id);\n",
              "      // Send a message to notify the kernel that we're ready.\n",
              "      channel.send({})\n",
              "\n",
              "      for await (const message of channel.messages) {\n",
              "        // Send a message to notify the kernel that we're ready.\n",
              "        channel.send({})\n",
              "        if (message.buffers) {\n",
              "          for (const buffer of message.buffers) {\n",
              "            buffers.push(buffer);\n",
              "            downloaded += buffer.byteLength;\n",
              "            progress.value = downloaded;\n",
              "          }\n",
              "        }\n",
              "      }\n",
              "      const blob = new Blob(buffers, {type: 'application/binary'});\n",
              "      const a = document.createElement('a');\n",
              "      a.href = window.URL.createObjectURL(blob);\n",
              "      a.download = filename;\n",
              "      div.appendChild(a);\n",
              "      a.click();\n",
              "      div.remove();\n",
              "    }\n",
              "  "
            ],
            "text/plain": [
              "<IPython.core.display.Javascript object>"
            ]
          },
          "metadata": {
            "tags": []
          }
        },
        {
          "output_type": "display_data",
          "data": {
            "application/javascript": [
              "download(\"download_ea91166a-5431-4d10-a5e6-7bb466df0a81\", \"MOMO.csv\", 110476)"
            ],
            "text/plain": [
              "<IPython.core.display.Javascript object>"
            ]
          },
          "metadata": {
            "tags": []
          }
        }
      ]
    },
    {
      "cell_type": "markdown",
      "metadata": {
        "id": "1x4swCF0muB3"
      },
      "source": [
        "# 2. Exploratory Data Analysis &  Data Visualization"
      ]
    },
    {
      "cell_type": "code",
      "metadata": {
        "colab": {
          "base_uri": "https://localhost:8080/"
        },
        "id": "jcVjvWpqmuB3",
        "outputId": "135b3373-d9d9-4a5f-c748-ad0c705bf01b"
      },
      "source": [
        "stock.shape"
      ],
      "execution_count": null,
      "outputs": [
        {
          "output_type": "execute_result",
          "data": {
            "text/plain": [
              "(1007, 6)"
            ]
          },
          "metadata": {
            "tags": []
          },
          "execution_count": 6
        }
      ]
    },
    {
      "cell_type": "code",
      "metadata": {
        "colab": {
          "base_uri": "https://localhost:8080/"
        },
        "id": "eQhuvvQ6muB4",
        "outputId": "03d0c7b2-db14-4e62-e020-ffb118f001db"
      },
      "source": [
        "stock.info() #all of them are numerical data and non-null"
      ],
      "execution_count": null,
      "outputs": [
        {
          "output_type": "stream",
          "text": [
            "<class 'pandas.core.frame.DataFrame'>\n",
            "DatetimeIndex: 1007 entries, 2017-01-03 to 2020-12-31\n",
            "Data columns (total 6 columns):\n",
            " #   Column     Non-Null Count  Dtype  \n",
            "---  ------     --------------  -----  \n",
            " 0   High       1007 non-null   float64\n",
            " 1   Low        1007 non-null   float64\n",
            " 2   Open       1007 non-null   float64\n",
            " 3   Close      1007 non-null   float64\n",
            " 4   Volume     1007 non-null   float64\n",
            " 5   Adj Close  1007 non-null   float64\n",
            "dtypes: float64(6)\n",
            "memory usage: 55.1 KB\n"
          ],
          "name": "stdout"
        }
      ]
    },
    {
      "cell_type": "code",
      "metadata": {
        "colab": {
          "base_uri": "https://localhost:8080/",
          "height": 111
        },
        "id": "cUJkMJX9muB4",
        "scrolled": false,
        "outputId": "c03342ad-fc99-4069-d953-7b1225b4ae86"
      },
      "source": [
        "# Display the decomposition of the time series into trend and seasonality components\n",
        "time_series_data = sm.tsa.seasonal_decompose(stock['Adj Close'], freq=128)\n",
        "fig = time_series_data.plot()\n",
        "fig.set_figheight(8)\n",
        "fig.set_figwidth(15)\n",
        "plt.show()"
      ],
      "execution_count": null,
      "outputs": [
        {
          "output_type": "display_data",
          "data": {
            "image/png": "[encoded data removed]",
            "text/plain": [
              "<Figure size 1080x576 with 4 Axes>"
            ]
          },
          "metadata": {
            "tags": []
          }
        }
      ]
    },
    {
      "cell_type": "markdown",
      "metadata": {
        "id": "5cN9iJyLqBw4"
      },
      "source": [
        ""
      ]
    },
    {
      "cell_type": "code",
      "metadata": {
        "colab": {
          "base_uri": "https://localhost:8080/",
          "height": 148
        },
        "id": "90vna6_VmuB5",
        "outputId": "c0590112-d076-4063-9952-73ad9faf8dd7"
      },
      "source": [
        "# Plot the trading volume\n",
        "plt.figure(figsize=(12,8))\n",
        "plt.ylabel('Volume')\n",
        "plt.xlabel(None)    # remove the label for the X-axis\n",
        "plt.title('MOMO Stock Trading Volume')\n",
        "\n",
        "plt.plot(stock['Volume'], c='blue')\n",
        "plt.show() "
      ],
      "execution_count": null,
      "outputs": [
        {
          "output_type": "display_data",
          "data": {
            "image/png": "[encoded data removed]",
            "text/plain": [
              "<Figure size 864x576 with 1 Axes>"
            ]
          },
          "metadata": {
            "tags": []
          }
        }
      ]
    },
    {
      "cell_type": "code",
      "metadata": {
        "colab": {
          "base_uri": "https://localhost:8080/"
        },
        "id": "RdcVVLU_muB6",
        "scrolled": true,
        "outputId": "7011db3b-312d-41dc-ec4c-f23e4aa0a770"
      },
      "source": [
        "!pip install mpl_finance\r\n",
        "import mpl_finance as mpf"
      ],
      "execution_count": null,
      "outputs": [
        {
          "output_type": "stream",
          "text": [
            "Collecting mpl_finance\n",
            "  Downloading https://files.pythonhosted.org/packages/9d/de/8169ea4403d6cb8322e74cc48b6834d1dfbed81931d17f1f26b2140160d8/mpl_finance-0.10.1-py3-none-any.whl\n",
            "Requirement already satisfied: matplotlib in /usr/local/lib/python3.7/dist-packages (from mpl_finance) (3.2.2)\n",
            "Requirement already satisfied: python-dateutil>=2.1 in /usr/local/lib/python3.7/dist-packages (from matplotlib->mpl_finance) (2.8.1)\n",
            "Requirement already satisfied: cycler>=0.10 in /usr/local/lib/python3.7/dist-packages (from matplotlib->mpl_finance) (0.10.0)\n",
            "Requirement already satisfied: pyparsing!=2.0.4,!=2.1.2,!=2.1.6,>=2.0.1 in /usr/local/lib/python3.7/dist-packages (from matplotlib->mpl_finance) (2.4.7)\n",
            "Requirement already satisfied: kiwisolver>=1.0.1 in /usr/local/lib/python3.7/dist-packages (from matplotlib->mpl_finance) (1.3.1)\n",
            "Requirement already satisfied: numpy>=1.11 in /usr/local/lib/python3.7/dist-packages (from matplotlib->mpl_finance) (1.19.5)\n",
            "Requirement already satisfied: six>=1.5 in /usr/local/lib/python3.7/dist-packages (from python-dateutil>=2.1->matplotlib->mpl_finance) (1.15.0)\n",
            "Installing collected packages: mpl-finance\n",
            "Successfully installed mpl-finance-0.10.1\n"
          ],
          "name": "stdout"
        }
      ]
    },
    {
      "cell_type": "code",
      "metadata": {
        "id": "TjD1Big-muB6"
      },
      "source": [
        "fig = plt.figure(figsize=(12,8))\n",
        "ax = fig.add_subplot(1,1,1)\n",
        "\n",
        "#input the days u want observe in k-line\n",
        "days = 1007\n",
        "# create ATVI price of open,close,high,low\n",
        "opens = stock['Open'][0:days]\n",
        "closes = stock['Close'][0:days]\n",
        "highs = stock['High'][0:days]\n",
        "lows = stock['Low'][0:days]\n",
        "\n",
        "ohlc = list(zip(np.arange(0,len(opens)), opens, closes, highs, lows))\n",
        "\n",
        "# k-line\n",
        "mpf.candlestick2_ochl(ax, opens, closes, highs, lows, width=0.6, colorup='g', colordown='r') \n",
        "# x-axis\n",
        "ax.set_xlim(0,days)\n",
        "#set scale# and labels\n",
        "ax.set_xticks(np.arange(0,days,5))\n",
        "\n",
        "\n",
        "# set axis\n",
        "ax.set_xlabel('Date', fontsize = 15)\n",
        "ax.set_ylabel('Price', fontsize = 15)\n",
        "ax.set_title('MOMO')\n",
        "plt.show() "
      ],
      "execution_count": null,
      "outputs": []
    },
    {
      "cell_type": "markdown",
      "metadata": {
        "id": "TJSWg2FXmuB7"
      },
      "source": [
        "# 3. MA of the Adjusted Closing Price"
      ]
    },
    {
      "cell_type": "markdown",
      "metadata": {
        "id": "uDq3DU0fmuB8"
      },
      "source": [
        "'''\n",
        "It helps traders judge the trends that will occur and detect the trend that excessive growth is about to reverse. \n",
        "The most commonly used method of the moving average is to compare the relationship between the moving average of the securities price and the price of the securities themselves. \n",
        "When the price of a security rises above its moving average, a buy signal is generated. When the price of a security falls below its moving average, \n",
        "a sell signal is generated. \n",
        "'''"
      ]
    },
    {
      "cell_type": "code",
      "metadata": {
        "id": "xHByNU_qmuB8"
      },
      "source": [
        "#prepare a copy\n",
        "stock2=stock\n",
        "\n",
        "# Calculate the moving average\n",
        "MA_20days = stock['Adj Close'].rolling(window=20).mean().dropna()\n",
        "stock2['MA20']=MA_20days\n",
        "\n",
        "# draw the Adj Close price and 20MA graph\n",
        "fig = plt.figure()\n",
        "ax = fig.add_subplot(1, 1, 1)\n",
        "ax.set_title('MOMO Adj Close price')\n",
        "stock2['Adj Close'].plot(legend = True,figsize = (10, 4))\n",
        "stock2['MA20'].plot(legend = True,figsize = (10, 4))\n",
        "plt.show() "
      ],
      "execution_count": null,
      "outputs": []
    },
    {
      "cell_type": "code",
      "metadata": {
        "id": "V7BHIa5hmuB9"
      },
      "source": [
        "#show MA5, MA20 & MA60 at the same time\n",
        "MA_5days = stock['Adj Close'].rolling(window=5).mean().dropna()\n",
        "MA_60days = stock['Adj Close'].rolling(window=10).mean().dropna()\n",
        "stock2['MA5']=MA_5days\n",
        "stock2['MA60']=MA_60days\n",
        "fig = plt.figure()\n",
        "ax = fig.add_subplot(1, 1, 1)\n",
        "ax.set_title('MOMO MA')\n",
        "stock2['Adj Close'].plot(legend = True,figsize = (10, 4))\n",
        "stock2['MA5'].plot(legend = True,figsize = (10, 4))\n",
        "stock2['MA20'].plot(legend = True,figsize = (10, 4))\n",
        "stock2['MA60'].plot(legend = True,figsize = (10, 4))\n",
        "plt.show() "
      ],
      "execution_count": null,
      "outputs": []
    },
    {
      "cell_type": "markdown",
      "metadata": {
        "id": "Uh1I8I5zmuB9"
      },
      "source": [
        "# 4. Daily Return"
      ]
    },
    {
      "cell_type": "markdown",
      "metadata": {
        "id": "c_yqumgYmuB-"
      },
      "source": [
        "'''\n",
        "Daily return can show the volatility better compare to price figure\n",
        "'''"
      ]
    },
    {
      "cell_type": "code",
      "metadata": {
        "id": "4ZRlrHNgmuB_"
      },
      "source": [
        "R_1D = (stock['Close']-stock['Open'])/(stock['Open'])\n",
        "stock2['R_1D']=R_1D"
      ],
      "execution_count": null,
      "outputs": []
    },
    {
      "cell_type": "code",
      "metadata": {
        "id": "xgznJLBymuCA",
        "scrolled": false
      },
      "source": [
        "nofig = plt.figure()\n",
        "ax = fig.add_subplot(1, 1, 1)\n",
        "ax.set_title('Price Change')\n",
        "stock2['R_1D'].plot(legend = True,figsize = (10, 4))\n",
        "plt.show()"
      ],
      "execution_count": null,
      "outputs": []
    },
    {
      "cell_type": "markdown",
      "metadata": {
        "id": "PNcefSBomuCB"
      },
      "source": [
        "'''\n",
        "the \"ln\" processing makes the data smoother and overcomes the heteroscedasticity of the data itself.It's better than R_1D\n",
        "'''"
      ]
    },
    {
      "cell_type": "code",
      "metadata": {
        "id": "maagtOiomuCB"
      },
      "source": [
        "from numpy import log as ln"
      ],
      "execution_count": null,
      "outputs": []
    },
    {
      "cell_type": "code",
      "metadata": {
        "id": "m-vE5AImmuCB"
      },
      "source": [
        "lnR_1D = ln(stock['Close']/stock['Open'])"
      ],
      "execution_count": null,
      "outputs": []
    },
    {
      "cell_type": "code",
      "metadata": {
        "colab": {
          "background_save": true
        },
        "id": "-cAfT4BhmuCC",
        "scrolled": true,
        "outputId": "4f1351b5-5baf-4a59-f1f2-9b33a5a48cdf"
      },
      "source": [
        "fig = plt.figure()\n",
        "ax = fig.add_subplot(1, 1, 1)\n",
        "ax.set_title('Price Change')\n",
        "stock2['lnR_1D']=lnR_1D\n",
        "stock2['lnR_1D'].plot(legend = True,figsize = (10, 4))"
      ],
      "execution_count": null,
      "outputs": [
        {
          "output_type": "execute_result",
          "data": {
            "text/plain": [
              "<matplotlib.axes._subplots.AxesSubplot at 0x7f0707714750>"
            ]
          },
          "metadata": {
            "tags": []
          },
          "execution_count": 0
        },
        {
          "output_type": "display_data",
          "data": {
            "image/png": "[encoded data removed]",
            "text/plain": [
              "<Figure size 720x288 with 1 Axes>"
            ]
          },
          "metadata": {
            "tags": []
          }
        }
      ]
    },
    {
      "cell_type": "code",
      "metadata": {
        "id": "cSE8d_KzmuCC"
      },
      "source": [
        "stock.to_csv('MOMO 2.0.csv')"
      ],
      "execution_count": null,
      "outputs": []
    },
    {
      "cell_type": "code",
      "metadata": {
        "id": "oZsl5ext6nFX"
      },
      "source": [
        "from google.colab import files\r\n",
        "files.download('MOMO 2.0.csv')"
      ],
      "execution_count": null,
      "outputs": []
    },
    {
      "cell_type": "markdown",
      "metadata": {
        "id": "yOLyzodwmuCC"
      },
      "source": [
        "# 5. Data Preprocessing"
      ]
    },
    {
      "cell_type": "code",
      "metadata": {
        "id": "Rgk1I13gmuCC"
      },
      "source": [
        "stock.describe()"
      ],
      "execution_count": null,
      "outputs": []
    },
    {
      "cell_type": "code",
      "metadata": {
        "id": "2sfKCLxFmuCC"
      },
      "source": [
        "#MA calculation caused the loss of data, and just delete na rows\n",
        "stock=stock.dropna()"
      ],
      "execution_count": null,
      "outputs": []
    },
    {
      "cell_type": "code",
      "metadata": {
        "id": "vJstmUDOmuCD"
      },
      "source": [
        "# Generating a dataframe containing just the features\n",
        "X_df = stock[['Open', 'High', 'Low', 'Volume','MA20','MA5','MA60','lnR_1D']]\n",
        "X_df"
      ],
      "execution_count": null,
      "outputs": []
    },
    {
      "cell_type": "code",
      "metadata": {
        "id": "Q5Fh52CLmuCD"
      },
      "source": [
        "# Generating a 2-dimensional dataframe containing the target\n",
        "Y_df = stock[['Adj Close']]\n",
        "Y_df"
      ],
      "execution_count": null,
      "outputs": []
    },
    {
      "cell_type": "markdown",
      "metadata": {
        "id": "bjAxCZ4xmuCD"
      },
      "source": [
        "# 6. Normalization on Features & Target"
      ]
    },
    {
      "cell_type": "code",
      "metadata": {
        "id": "0BMSnIRumuCE"
      },
      "source": [
        "# Normalized is advised for artificial neural networks\n",
        "# Hence, the features are to be normalised [(]i.e. new = (old - mean)/standard_deviation]\n",
        "#The difference between features are big, so standard methond is more suitable\n",
        "normalizer = StandardScaler()\n",
        "X_ar = normalizer.fit_transform(X_df)\n",
        "X_ar"
      ],
      "execution_count": null,
      "outputs": []
    },
    {
      "cell_type": "code",
      "metadata": {
        "id": "v_IKtZfVmuCE"
      },
      "source": [
        "# Unscaled target on regression problems can result in exploding gradients leading to failure\n",
        "# Hence, the target is to be scaled\n",
        "# Consequently, the prediction will need to be inverse-transformed\n",
        "scaler = MinMaxScaler()\n",
        "Y_ar = scaler.fit_transform(Y_df)\n",
        "Y_ar"
      ],
      "execution_count": null,
      "outputs": []
    },
    {
      "cell_type": "markdown",
      "metadata": {
        "id": "CSmVd9HXmuCE"
      },
      "source": [
        "# Preparing Training and Test Datasets"
      ]
    },
    {
      "cell_type": "code",
      "metadata": {
        "id": "Fyriat82muCF"
      },
      "source": [
        "# Use the first 200 rows/samples for training and the rest for testing \n",
        "testing_percentage = 0.209\n",
        "training_size = int(stock.shape[0] * (1 - testing_percentage))"
      ],
      "execution_count": null,
      "outputs": []
    },
    {
      "cell_type": "code",
      "metadata": {
        "id": "6RcX_euJmuCI"
      },
      "source": [
        "X_train_ar = X_ar [:training_size, :]\n",
        "X_test_ar = X_ar [training_size:, :]\n",
        "\n",
        "Y_train_ar = Y_ar [:training_size, :]\n",
        "Y_test_ar = Y_ar [training_size:, :]\n",
        "\n",
        "print ('Training Dataset Shape', X_train_ar.shape, Y_train_ar.shape)\n",
        "print ('Testing Dataset Shape', X_test_ar.shape, Y_test_ar.shape)"
      ],
      "execution_count": null,
      "outputs": []
    },
    {
      "cell_type": "markdown",
      "metadata": {
        "id": "h9Ec2SBFmuCI"
      },
      "source": [
        "# Transform to tensors"
      ]
    },
    {
      "cell_type": "code",
      "metadata": {
        "id": "YLgAeEwJmuCJ"
      },
      "source": [
        "input_size = 8   # number of features\n",
        "hidden_size = 1   # number of hidden states\n",
        "num_layers = 1   # number of LSTM layers\n",
        "output_size = 1   # number of output classes \n",
        "batch_size = 1   # number of samples"
      ],
      "execution_count": null,
      "outputs": []
    },
    {
      "cell_type": "code",
      "metadata": {
        "id": "E12bOGjJmuCK"
      },
      "source": [
        "# Turning the training dataset into a tenro\n",
        "X_train_tensor = torch.Tensor (X_train_ar)\n",
        "Y_train_tensor = torch.Tensor (Y_train_ar)\n",
        "\n",
        "# Turning the testing dataset into a tensor\n",
        "X_test_tensor = torch.Tensor (X_test_ar)\n",
        "Y_test_tensor = torch.Tensor (Y_test_ar)\n",
        "\n",
        "print ('Training Dataset Shape: ', X_train_tensor.shape, Y_train_tensor.shape)\n",
        "print ('Testing Dataset Shape: ', X_test_tensor.shape, Y_test_tensor.shape)"
      ],
      "execution_count": null,
      "outputs": []
    },
    {
      "cell_type": "code",
      "metadata": {
        "id": "N-3oEFoImuCK"
      },
      "source": [
        "# Returning a properly structured tensor with the following shape\n",
        "# [Batch size, Sequence length, Number of features]\n",
        "\n",
        "# New tensor containing the same data as the original input dataset of different shape\n",
        "\n",
        "X_train_3D_tensor = torch.reshape(X_train_tensor, (batch_size, X_train_tensor.shape[0], X_train_tensor.shape[1]))\n",
        "X_test_3D_tensor = torch.reshape(X_test_tensor, (batch_size, X_test_tensor.shape[0], X_test_tensor.shape[1]))\n",
        "\n",
        "# Reshaping application to features only and not the target\n",
        "print ('Training Shape: ', X_train_3D_tensor.shape, Y_train_tensor.shape)\n",
        "print ('Testing Shape: ', X_test_3D_tensor.shape, Y_test_tensor.shape)"
      ],
      "execution_count": null,
      "outputs": []
    },
    {
      "cell_type": "markdown",
      "metadata": {
        "id": "JZQh8X5lmuCK"
      },
      "source": [
        "# Define our own LSTM RNN "
      ]
    },
    {
      "cell_type": "code",
      "metadata": {
        "id": "RrFElCanmuCK"
      },
      "source": [
        "# Define a be-spoken LSTM RNN \n",
        "# nn.Module is the superclass for all neural network modules\n",
        "\n",
        "class LSTM1(nn.Module):\n",
        "    \n",
        "    # __init__ is invoked when a new instance of the class is created\n",
        "    def __init__(self, output_size, input_size, hidden_size, num_layers, batch_size):\n",
        "\n",
        "        super(LSTM1, self).__init__()   # Initiate the new instance using the __init__ method of the superclass\n",
        "        \n",
        "        self.num_classes = output_size   # Number of output classes, typically 1 for regression\n",
        "        self.input_size = input_size   # Number of expected features in the input x\n",
        "        self.hidden_size = hidden_size   # Number of features in the hidden state h \n",
        "        self.num_layers = num_layers   # Number of recurrent layers\n",
        "        self.batch_size = batch_size   # Number of samples\n",
        "                \n",
        "        # Deploy the nn.LSTM as the RNN\n",
        "        \n",
        "        # Set batch_first=True to dictate the dimensions of the input tensor \n",
        "        # Input tensor as [batch_size, seq_len, input_size] instead of [seq_len. batch_size, input_size]\n",
        "        \n",
        "        # https://pytorch.org/docs/stable/generated/torch.nn.LSTM.html#torch.nn.LSTM\n",
        "        self.lstm = nn.LSTM(input_size=input_size, hidden_size=hidden_size, num_layers=num_layers, batch_first=True)\n",
        "        \n",
        "        # nn.Linear takes the size of input and size of output as parameters\n",
        "        # https://pytorch.org/docs/stable/generated/torch.nn.Linear.html#torch.nn.Linear\n",
        "        self.mlp_1 = nn.Linear(hidden_size, 128) # fully connected MLP layer connecting the LSTM layer\n",
        "        self.mlp_2 = nn.Linear(128, output_size) # fully connected MLP layer producing the output\n",
        "        \n",
        "        # Use ReLU as the activation function\n",
        "        # https://pytorch.org/docs/stable/generated/torch.nn.ReLU.html#torch.nn.ReLU\n",
        "        self.relu = nn.ReLU()\n",
        "    \n",
        "    # Define the forward propagation that takes the input tensor as input\n",
        "    # input tensor (x) of shape [batch size, sequence length, no. of features]\n",
        "    def forward(self, x):\n",
        "        \n",
        "        # the hidden state tensor and the cell state tensor are of the same shape\n",
        "        # [no. of layers, batch size, hidden size]\n",
        "        \n",
        "        # Create two zero-valued tensors\n",
        "        h_0 = torch.zeros(self.num_layers, self.batch_size, self.hidden_size)       \n",
        "        c_0 = torch.zeros(self.num_layers, self.batch_size, self.hidden_size)\n",
        "        \n",
        "        # Propagate input through the LSTM using the zero-valued hidden and cell state tensors\n",
        "\n",
        "        # The output includes the prediction tensor \"output\" having the shape [sequence length, batch size, hidden size]\n",
        "        # and contains the output features (h_t) from the last layer of the LSTM\n",
        "        \n",
        "        # \"h_n\" corresponds to the hidden state for t=sequence length\n",
        "        # \"c_n\" corresponds to the cell state  for t=sequence length\n",
        "        \n",
        "        output, (h_n, c_n) = self.lstm(x, (h_0, c_0))\n",
        "        \n",
        "        # flatten the output using a view such that each row represents the hidden state for each input row\n",
        "        out = output.view(-1, self.hidden_size)\n",
        "\n",
        "        # ensure values are all positive\n",
        "        out = self.relu(out)   \n",
        "        \n",
        "        # Connect to the fully connected layers to generate the output\n",
        "        out = self.mlp_1(out)\n",
        "        out = self.relu(out)\n",
        "        out = self.mlp_2(out)\n",
        "        \n",
        "        return out, (h_n, c_n)"
      ],
      "execution_count": null,
      "outputs": []
    },
    {
      "cell_type": "markdown",
      "metadata": {
        "id": "iXnIc9YxmuCK"
      },
      "source": [
        "# LSTM RNN Training"
      ]
    },
    {
      "cell_type": "markdown",
      "metadata": {
        "id": "sJs1QeXemuCL"
      },
      "source": [
        "# Create LSTM RNN "
      ]
    },
    {
      "cell_type": "code",
      "metadata": {
        "id": "NBW3FKmYmuCL"
      },
      "source": [
        "num_epochs = 3000   # number of iterations\n",
        "learning_rate = 0.001   # learning rate"
      ],
      "execution_count": null,
      "outputs": []
    },
    {
      "cell_type": "code",
      "metadata": {
        "id": "RZ2V6sB9muCM"
      },
      "source": [
        "lstm1 = LSTM1(output_size, input_size, hidden_size, num_layers, batch_size)"
      ],
      "execution_count": null,
      "outputs": []
    },
    {
      "cell_type": "code",
      "metadata": {
        "id": "oDtUuCbamuCM"
      },
      "source": [
        "print(lstm1)"
      ],
      "execution_count": null,
      "outputs": []
    },
    {
      "cell_type": "code",
      "metadata": {
        "id": "V4Dtj5ycmuCM"
      },
      "source": [
        "MSE = torch.nn.MSELoss()    # mean-squared error for regression\n",
        "optimizer = torch.optim.Adam(lstm1.parameters(), lr=learning_rate)"
      ],
      "execution_count": null,
      "outputs": []
    },
    {
      "cell_type": "markdown",
      "metadata": {
        "id": "cftfXJpWmuCN"
      },
      "source": [
        "# Train LSTM RNN "
      ]
    },
    {
      "cell_type": "code",
      "metadata": {
        "id": "PchYzfsOmuCN"
      },
      "source": [
        "for epoch in tqdm(range(num_epochs), desc='LSTM RNN Training'):\n",
        "\n",
        "    out, (h_n, c_n) = lstm1(X_train_3D_tensor)   # forward propagation\n",
        "    \n",
        "    loss = MSE(out, Y_train_tensor)   # obtain the loss based on MSE\n",
        "\n",
        "    optimizer.zero_grad()   # clear the gradients before backward propagation\n",
        "    loss.backward(retain_graph=True)   # backward propagation\n",
        "    \n",
        "    optimizer.step()   # improve from loss by updating all parameters\n",
        "    \n",
        "    if epoch % 100 == 99:\n",
        "        print(\"Epoch: %d, loss: %1.5f\" % (epoch+1, loss.item()))"
      ],
      "execution_count": null,
      "outputs": []
    },
    {
      "cell_type": "markdown",
      "metadata": {
        "id": "CQWISsHNmuCO"
      },
      "source": [
        "# LSTM RNN Testing"
      ]
    },
    {
      "cell_type": "code",
      "metadata": {
        "id": "3TRNW8o7muCO"
      },
      "source": [
        "# Creating DataFrame storing actual and predicted values for visualization\n",
        "Y = pd.DataFrame (index = Y_df.index, columns = ['Actual', 'Predicted'])\n",
        "\n",
        "# Using the same date or time values as index\n",
        "Y ['Actual'] = Y_df"
      ],
      "execution_count": null,
      "outputs": []
    },
    {
      "cell_type": "markdown",
      "metadata": {
        "id": "5LtvQqkfmuCP"
      },
      "source": [
        "# Performing prediction using trained LSTM RNN"
      ]
    },
    {
      "cell_type": "code",
      "metadata": {
        "id": "WcMPQWVLmuCQ"
      },
      "source": [
        "# Forward propagation on Training Dataset or Tensor\n",
        "Y_train_pred, (h_n, c_n) = lstm1 (X_train_3D_tensor)\n",
        "\n",
        "# Numpy conversion followed by reverse normalization\n",
        "Y_train_pred_ar = scaler.inverse_transform (Y_train_pred.data.numpy())\n",
        "Y.loc [Y.index [: training_size], 'Predicted'] = Y_train_pred_ar"
      ],
      "execution_count": null,
      "outputs": []
    },
    {
      "cell_type": "code",
      "metadata": {
        "id": "CqXOOIbgmuCQ"
      },
      "source": [
        "# Forward Propagation on Test Dataset or Tensor\n",
        "Y_test_pred, (h_n, c_n) = lstm1 (X_test_3D_tensor)\n",
        "\n",
        "# Numpy conversion followed by reverse normalization\n",
        "Y_test_pred_ar = scaler.inverse_transform (Y_test_pred.data.numpy())\n",
        "Y.loc [Y.index [training_size :], 'Predicted'] = Y_test_pred_ar"
      ],
      "execution_count": null,
      "outputs": []
    },
    {
      "cell_type": "markdown",
      "metadata": {
        "id": "9Kxs78N7muCQ"
      },
      "source": [
        "# Grid-Search"
      ]
    },
    {
      "cell_type": "markdown",
      "metadata": {
        "id": "AvmyiXHsmuCQ"
      },
      "source": [
        "# Visualization of the result"
      ]
    },
    {
      "cell_type": "code",
      "metadata": {
        "id": "Yw0MTVTxmuCQ"
      },
      "source": [
        "# Handle date/time conversions between pandas and matplotlib\n",
        "from pandas.plotting import register_matplotlib_converters\n",
        "register_matplotlib_converters()\n",
        "\n",
        "plt.figure(figsize=(12,8))   # plotting\n",
        "\n",
        "plt.plot(Y.index.values, Y['Actual'], label='Actual Volume')   # actual plot\n",
        "plt.plot(Y.index.values, Y['Predicted'], label='Predicted Volume')   # predicted plot\n",
        "plt.title('Starbuck Stock Trading Volume')\n",
        "plt.legend() \n",
        "plt.axvline(x=Y.index.values[781], c='r', linestyle='--')   # mark the boundary of training and test dataset\n",
        "plt.show() "
      ],
      "execution_count": null,
      "outputs": []
    },
    {
      "cell_type": "code",
      "metadata": {
        "id": "QAVOO0EZmuCQ"
      },
      "source": [
        "from sklearn.metrics import mean_squared_error"
      ],
      "execution_count": null,
      "outputs": []
    },
    {
      "cell_type": "code",
      "metadata": {
        "id": "0YXPKSqFmuCQ"
      },
      "source": [
        "print('RMSE/Mean (Training): {}'.format( \\\n",
        "    mean_squared_error(Y.loc[Y.index[:training_size], 'Actual'], Y.loc[Y.index[:training_size], 'Predicted'], \\\n",
        "    squared=False)/Y.loc[Y.index[:training_size], 'Actual'].mean()))\n",
        "print('RMSE/Mean (Test): {}'.format( \\\n",
        "    mean_squared_error(Y.loc[Y.index[training_size:], 'Actual'], Y.loc[Y.index[training_size:], 'Predicted'], \\\n",
        "    squared=False)/Y.loc[Y.index[training_size:], 'Actual'].mean()))"
      ],
      "execution_count": null,
      "outputs": []
    }
  ]
}